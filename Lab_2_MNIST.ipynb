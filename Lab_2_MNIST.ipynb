{
  "nbformat": 4,
  "nbformat_minor": 0,
  "metadata": {
    "colab": {
      "name": "Lab_2_MNIST.ipynb",
      "provenance": [],
      "collapsed_sections": [],
      "authorship_tag": "ABX9TyPrubX39l0Q3g2h3Z1k3I73",
      "include_colab_link": true
    },
    "kernelspec": {
      "name": "python3",
      "display_name": "Python 3"
    },
    "language_info": {
      "name": "python"
    }
  },
  "cells": [
    {
      "cell_type": "markdown",
      "metadata": {
        "id": "view-in-github",
        "colab_type": "text"
      },
      "source": [
        "<a href=\"https://colab.research.google.com/github/Tottoro932/Neural-networks/blob/main/Lab_2_MNIST.ipynb\" target=\"_parent\"><img src=\"https://colab.research.google.com/assets/colab-badge.svg\" alt=\"Open In Colab\"/></a>"
      ]
    },
    {
      "cell_type": "markdown",
      "metadata": {
        "id": "J82KooPATUf8"
      },
      "source": [
        "**Lab 2_1: MXNet Basic Classification**"
      ]
    },
    {
      "cell_type": "code",
      "metadata": {
        "colab": {
          "base_uri": "https://localhost:8080/"
        },
        "id": "5G-yI-0SUX96",
        "outputId": "24a662f4-4c10-4dd9-fe41-bab9d93d6661"
      },
      "source": [
        "!pip install mxnet   # автоматизирует рабочие процессы => нейронная сеть занимает мало строчек кода"
      ],
      "execution_count": 1,
      "outputs": [
        {
          "output_type": "stream",
          "name": "stdout",
          "text": [
            "Collecting mxnet\n",
            "  Downloading mxnet-1.8.0.post0-py2.py3-none-manylinux2014_x86_64.whl (46.9 MB)\n",
            "\u001b[K     |████████████████████████████████| 46.9 MB 43 kB/s \n",
            "\u001b[?25hRequirement already satisfied: numpy<2.0.0,>1.16.0 in /usr/local/lib/python3.7/dist-packages (from mxnet) (1.19.5)\n",
            "Collecting graphviz<0.9.0,>=0.8.1\n",
            "  Downloading graphviz-0.8.4-py2.py3-none-any.whl (16 kB)\n",
            "Requirement already satisfied: requests<3,>=2.20.0 in /usr/local/lib/python3.7/dist-packages (from mxnet) (2.23.0)\n",
            "Requirement already satisfied: certifi>=2017.4.17 in /usr/local/lib/python3.7/dist-packages (from requests<3,>=2.20.0->mxnet) (2021.5.30)\n",
            "Requirement already satisfied: idna<3,>=2.5 in /usr/local/lib/python3.7/dist-packages (from requests<3,>=2.20.0->mxnet) (2.10)\n",
            "Requirement already satisfied: urllib3!=1.25.0,!=1.25.1,<1.26,>=1.21.1 in /usr/local/lib/python3.7/dist-packages (from requests<3,>=2.20.0->mxnet) (1.24.3)\n",
            "Requirement already satisfied: chardet<4,>=3.0.2 in /usr/local/lib/python3.7/dist-packages (from requests<3,>=2.20.0->mxnet) (3.0.4)\n",
            "Installing collected packages: graphviz, mxnet\n",
            "  Attempting uninstall: graphviz\n",
            "    Found existing installation: graphviz 0.10.1\n",
            "    Uninstalling graphviz-0.10.1:\n",
            "      Successfully uninstalled graphviz-0.10.1\n",
            "Successfully installed graphviz-0.8.4 mxnet-1.8.0.post0\n"
          ]
        }
      ]
    },
    {
      "cell_type": "code",
      "metadata": {
        "id": "AIt8FEZPTd2A"
      },
      "source": [
        "# импорт библиотек\n",
        "import mxnet as mx\n",
        "from mxnet.gluon.data.vision import transforms\n",
        "\n",
        "from mxnet import nd, gluon, autograd\n",
        "from mxnet.gluon import nn\n",
        "\n",
        "import pickle  # формат для выгрузки данных из памяти на диск и обратно\n",
        "\n",
        "import numpy as np\n",
        "import matplotlib.pyplot as plt   # для отображения графиков\n"
      ],
      "execution_count": 2,
      "outputs": []
    },
    {
      "cell_type": "code",
      "metadata": {
        "id": "zx-c7htPII9q"
      },
      "source": [
        "# загрузили датасеты\n",
        "mnist = mx.test_utils.get_mnist()"
      ],
      "execution_count": 3,
      "outputs": []
    },
    {
      "cell_type": "code",
      "metadata": {
        "id": "6SpQ2Az2qqYT"
      },
      "source": [
        "# данные поступают в виде массива 28х28, мы их преобразуем в плоскую структуру 1х784\n",
        "train_d = mnist['train_data'].reshape((-1, 784))\n",
        "train_data = mx.nd.array(train_d)\n",
        "\n",
        "train_l = mx.nd.array(mnist['train_label'])\n",
        "train_label = mx.nd.array(train_l)\n",
        "\n",
        "test_d = mnist['test_data'].reshape((-1, 784))\n",
        "test_data = mx.nd.array(test_d)\n",
        "\n",
        "test_l = mnist['test_label']\n",
        "test_label = mx.nd.array(test_l)"
      ],
      "execution_count": 4,
      "outputs": []
    },
    {
      "cell_type": "code",
      "metadata": {
        "id": "9hnYNUpsUqUr"
      },
      "source": [
        "#train_fh = mx.io.NDArrayIter(data = {'train_data': mnist['train_data']}, label = {'train_label': mnist['train_label']},batch_size = 100)\n",
        "#test_fh = mx.io.NDArrayIter(data = {'test_data': mnist['test_data']},label = {'test_label': mnist['test_label']})\n",
        "\n",
        "batch_size = 34\n",
        "#train_data = mx.io.NDArrayIter(train_data, train_label, batch_size, shuffle=True)\n",
        "#val_data = mx.io.NDArrayIter(test_data, test_label, batch_size)\n",
        "\n",
        "train_dataset = gluon.data.ArrayDataset(train_data, train_label) # создаем тренировочный датасет\n",
        "train_ = gluon.data.DataLoader(train_dataset, batch_size=batch_size, shuffle=True)\n"
      ],
      "execution_count": 5,
      "outputs": []
    },
    {
      "cell_type": "code",
      "metadata": {
        "id": "LlKf7hW2WEer"
      },
      "source": [
        "# задали имена классов (10 штук)\n",
        "class_names = ['0', '1', '2', '3', '4', '5', '6', '7', '8', '9'] \n"
      ],
      "execution_count": 6,
      "outputs": []
    },
    {
      "cell_type": "code",
      "metadata": {
        "colab": {
          "base_uri": "https://localhost:8080/",
          "height": 288
        },
        "id": "AXctrC1xXvQv",
        "outputId": "d4fabf3c-39ad-4e7a-fff8-ea4cacecc90f"
      },
      "source": [
        "train_image_no = 0  # задаем номер картинки, которую хотим вывести\n",
        " \n",
        "images_data = train_data[train_image_no] \n",
        "plt.figure() \n",
        "plt.imshow(images_data.reshape((28,28)).asnumpy(),cmap='gray') # выводим картинку на экран, 28 на 28 пикселей\n",
        "plt.colorbar() \n",
        " \n",
        "plt.show() \n",
        "print(\"ответ:\", train_label[train_image_no].asnumpy()[0])\n"
      ],
      "execution_count": 11,
      "outputs": [
        {
          "output_type": "display_data",
          "data": {
            "image/png": "[encoded data removed]",
            "text/plain": [
              "<Figure size 432x288 with 2 Axes>"
            ]
          },
          "metadata": {
            "needs_background": "light"
          }
        },
        {
          "output_type": "stream",
          "name": "stdout",
          "text": [
            "ответ: 5.0\n"
          ]
        }
      ]
    },
    {
      "cell_type": "code",
      "metadata": {
        "id": "oTWWnDzwZkGZ"
      },
      "source": [
        "# создаем модель нейронной сети из 3 последовательных слоев\n",
        "net = nn.HybridSequential(prefix='MLP_') \n",
        "with net.name_scope(): \n",
        "   net.add( \n",
        "     nn.Flatten(), # переводим в векторную форму\n",
        "     nn.Dense(128, activation='relu'), # первый слой: 128 нейронов, функция активации (чтобы уйти от линейной зависимости)\n",
        "     nn.Dense(64, activation='relu'), # второй слой: 128 нейронов, relu: 0 - отриц.при аргументах <0 и само значение при аргументах >0\n",
        "     nn.Dense(10, activation=None)     # второй слой: 128 нейронов, не содержит активации\n",
        "   ) \n",
        "   # nn - функция mxnet, отвечает за создание нейронных сетей\n"
      ],
      "execution_count": 12,
      "outputs": []
    },
    {
      "cell_type": "code",
      "metadata": {
        "id": "CBXaDfp_ZrHU"
      },
      "source": [
        "ctx = mx.gpu(0) if mx.context.num_gpus() > 0 else mx.cpu(0) \n",
        "net.initialize(mx.init.Xavier(), ctx=ctx)"
      ],
      "execution_count": 13,
      "outputs": []
    },
    {
      "cell_type": "code",
      "metadata": {
        "id": "ahXBLn06Zu9j"
      },
      "source": [
        "trainer = gluon.Trainer(  # trainer проводит оптимизацию параметров\n",
        "  params=net.collect_params(), # возвращает параметры net (количество узлов матрицы коэффициентов)\n",
        "  optimizer='sgd', \n",
        "  optimizer_params={'learning_rate': 0.04}, # задали скорость тренировки 0.04\n",
        ") "
      ],
      "execution_count": 14,
      "outputs": []
    },
    {
      "cell_type": "code",
      "metadata": {
        "id": "AAUWemKSZywm"
      },
      "source": [
        "# метрики для отслеживания обучения сети (на сколько хорошо обучается)\n",
        "metric = mx.metric.Accuracy() # accuracy - точность\n",
        "loss_function = gluon.loss.SoftmaxCrossEntropyLoss() # функция потерь (на сколько каждая картинка отличается от ожидаемого результата)\n"
      ],
      "execution_count": 15,
      "outputs": []
    },
    {
      "cell_type": "code",
      "metadata": {
        "colab": {
          "base_uri": "https://localhost:8080/"
        },
        "id": "8tTXkr45Z23Q",
        "outputId": "d7ea29da-6260-4f8c-944c-64dc99963fb5"
      },
      "source": [
        "# начинаем обучение\n",
        "num_epochs = 10 # количество эпох (10 раз просматриваем датасет перед тем как завершить обучение)\n",
        "history = [] \n",
        " \n",
        "for epoch in range(num_epochs):    # цикл по эпохам\n",
        "  for inputs, labels in train_:   # train_ - подгрузка данных из датасета порциями\n",
        "    \n",
        "    inputs = inputs.as_in_context(ctx) \n",
        "    labels = labels.as_in_context(ctx) \n",
        " \n",
        "    with autograd.record(): \n",
        "      outputs = net(inputs) \n",
        "      loss = loss_function(outputs, labels) \n",
        " \n",
        "    # оцениваем функцию потерь и делаем корректировку\n",
        "    loss.backward() \n",
        "    metric.update(labels, outputs) # обновляем метрику (следим за качеством на каждом шаге)\n",
        " \n",
        "    \n",
        "    trainer.step(batch_size=inputs.shape[0]) # trainer - следит за состоянием тренировки (обновляем каждый раз)\n",
        " \n",
        "  name, acc = metric.get() # точность рассчитывается через метрику\n",
        "  history.insert(epoch,acc) # на каждом шаге вставляем в массив номер эпохи и текущее значение точности\n",
        "  print('.', end='') \n",
        "  metric.reset() \n",
        " \n",
        "print('[Done]')"
      ],
      "execution_count": 16,
      "outputs": [
        {
          "output_type": "stream",
          "name": "stdout",
          "text": [
            "..........[Done]\n"
          ]
        }
      ]
    },
    {
      "cell_type": "code",
      "metadata": {
        "colab": {
          "base_uri": "https://localhost:8080/",
          "height": 314
        },
        "id": "acxIjewraRQx",
        "outputId": "ada9b734-f39c-4e10-a4fa-46d5302448c9"
      },
      "source": [
        "plt.figure(figsize=(7, 4)) \n",
        "plt.plot(history) # массив с предыдущего шага\n",
        "plt.title('Model accuracy') \n",
        "plt.ylabel('Accuracy') \n",
        "plt.xlabel('Epoch') \n",
        "# как менялась точность с количеством эпох \n",
        "# с 6 эпохи точность почти не менялась"
      ],
      "execution_count": 17,
      "outputs": [
        {
          "output_type": "execute_result",
          "data": {
            "text/plain": [
              "Text(0.5, 0, 'Epoch')"
            ]
          },
          "metadata": {},
          "execution_count": 17
        },
        {
          "output_type": "display_data",
          "data": {
            "image/png": "[encoded data removed]",
            "text/plain": [
              "<Figure size 504x288 with 1 Axes>"
            ]
          },
          "metadata": {
            "needs_background": "light"
          }
        }
      ]
    },
    {
      "cell_type": "code",
      "metadata": {
        "id": "Pgv5SDj8aUVv"
      },
      "source": [
        "# из тестовых данных подгружаем результаты для проверки качества нашей сети\n",
        "test_dataset = gluon.data.ArrayDataset(test_data, test_label) # создаем тренировочный датасет\n",
        "test_ = gluon.data.DataLoader(test_dataset, batch_size=batch_size, shuffle=False)\n"
      ],
      "execution_count": 21,
      "outputs": []
    },
    {
      "cell_type": "code",
      "metadata": {
        "colab": {
          "base_uri": "https://localhost:8080/"
        },
        "id": "G23VYGAjaZnE",
        "outputId": "1e3cd70e-0b0f-4b66-fa2c-6066f2133aa3"
      },
      "source": [
        "# повторям тот же процесс что и при обучении\n",
        "metric = mx.metric.Accuracy() \n",
        "\n",
        "for inputs, labels in test_: \n",
        "  \n",
        "  inputs = inputs.as_in_context(ctx) \n",
        "  labels = labels.as_in_context(ctx) \n",
        "  metric.update(labels, net(inputs)) \n",
        " \n",
        "print('Validation: {} = {}'.format(*metric.get()))\n",
        "# на выходе получаем точность результатов"
      ],
      "execution_count": 22,
      "outputs": [
        {
          "output_type": "stream",
          "name": "stdout",
          "text": [
            "Validation: accuracy = 0.9761\n"
          ]
        }
      ]
    }
  ]
}