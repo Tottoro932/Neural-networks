{
  "nbformat": 4,
  "nbformat_minor": 0,
  "metadata": {
    "colab": {
      "name": "Lab_0.ipynb",
      "provenance": [],
      "collapsed_sections": [],
      "authorship_tag": "ABX9TyO2V1R/a06zY2nB3JsKX+oS",
      "include_colab_link": true
    },
    "kernelspec": {
      "name": "python3",
      "display_name": "Python 3"
    },
    "language_info": {
      "name": "python"
    }
  },
  "cells": [
    {
      "cell_type": "markdown",
      "metadata": {
        "id": "view-in-github",
        "colab_type": "text"
      },
      "source": [
        "<a href=\"https://colab.research.google.com/github/Tottoro932/Neural-networks/blob/main/Lab_0.ipynb\" target=\"_parent\"><img src=\"https://colab.research.google.com/assets/colab-badge.svg\" alt=\"Open In Colab\"/></a>"
      ]
    },
    {
      "cell_type": "markdown",
      "metadata": {
        "id": "RUPkag04477V"
      },
      "source": [
        "*Lab 0: Introduction*"
      ]
    },
    {
      "cell_type": "code",
      "metadata": {
        "colab": {
          "base_uri": "https://localhost:8080/"
        },
        "id": "mbdb_iaA5HBf",
        "outputId": "79bc8197-acda-4003-9995-5290f3d69964"
      },
      "source": [
        "!whoami  # ! - для выполнения кода в командной строке\n"
      ],
      "execution_count": 1,
      "outputs": [
        {
          "output_type": "stream",
          "name": "stdout",
          "text": [
            "root\n"
          ]
        }
      ]
    },
    {
      "cell_type": "code",
      "metadata": {
        "colab": {
          "base_uri": "https://localhost:8080/"
        },
        "id": "7-3KRIY45Sjv",
        "outputId": "e6c3313e-5397-41c5-ddbf-10e9bb854006"
      },
      "source": [
        "!which python"
      ],
      "execution_count": 2,
      "outputs": [
        {
          "output_type": "stream",
          "name": "stdout",
          "text": [
            "/usr/local/bin/python\n"
          ]
        }
      ]
    },
    {
      "cell_type": "code",
      "metadata": {
        "colab": {
          "base_uri": "https://localhost:8080/"
        },
        "id": "d0LZnN9q5Xz8",
        "outputId": "0ba50608-018b-42c7-eb04-6a54d3e6a910"
      },
      "source": [
        "!python --version "
      ],
      "execution_count": 4,
      "outputs": [
        {
          "output_type": "stream",
          "name": "stdout",
          "text": [
            "Python 3.7.11\n"
          ]
        }
      ]
    },
    {
      "cell_type": "code",
      "metadata": {
        "colab": {
          "base_uri": "https://localhost:8080/"
        },
        "id": "jYriA21F5yrv",
        "outputId": "38f2b2b3-da3f-45e2-af8e-bc0478dd9555"
      },
      "source": [
        "# вводим массив слов и циклом выводим предложения с данными словами\n",
        "words = ['awesome', 'amazing', 'great'] \n",
        "for w in words: \n",
        "  print('This Linux Academy lab is %s!' % w) "
      ],
      "execution_count": 5,
      "outputs": [
        {
          "output_type": "stream",
          "name": "stdout",
          "text": [
            "This Linux Academy lab is awesome!\n",
            "This Linux Academy lab is amazing!\n",
            "This Linux Academy lab is great!\n"
          ]
        }
      ]
    },
    {
      "cell_type": "code",
      "metadata": {
        "colab": {
          "base_uri": "https://localhost:8080/"
        },
        "id": "Us8vq31T6LCz",
        "outputId": "70ecf2fc-25a8-4ed6-aeb0-737a9f8b58a5"
      },
      "source": [
        "# создали список дат\n",
        "myList = [0, 1, 2, 3, 4, 5] \n",
        " \n",
        "myList "
      ],
      "execution_count": 6,
      "outputs": [
        {
          "output_type": "execute_result",
          "data": {
            "text/plain": [
              "[0, 1, 2, 3, 4, 5]"
            ]
          },
          "metadata": {},
          "execution_count": 6
        }
      ]
    },
    {
      "cell_type": "code",
      "metadata": {
        "colab": {
          "base_uri": "https://localhost:8080/"
        },
        "id": "KhepMbXn6bna",
        "outputId": "044d5777-8c65-4415-d51f-6270663431b0"
      },
      "source": [
        "# можем добавить в список нечто странное, например, цвет\n",
        "myList.append('blue') \n",
        " \n",
        "myList  "
      ],
      "execution_count": 7,
      "outputs": [
        {
          "output_type": "execute_result",
          "data": {
            "text/plain": [
              "[0, 1, 2, 3, 4, 5, 'blue']"
            ]
          },
          "metadata": {},
          "execution_count": 7
        }
      ]
    },
    {
      "cell_type": "code",
      "metadata": {
        "colab": {
          "base_uri": "https://localhost:8080/"
        },
        "id": "1KWvOnW_60mQ",
        "outputId": "790d5426-eed6-45ee-b30e-92ce75c76f43"
      },
      "source": [
        "print(myList[3])   # вывод третьего элемента списка\n",
        "print(myList[3:])  # вывод всех элементов списка начиная с 3\n",
        "print(len(myList))  # вывод длины списка (количества элементов)"
      ],
      "execution_count": 9,
      "outputs": [
        {
          "output_type": "stream",
          "name": "stdout",
          "text": [
            "3\n",
            "[3, 4, 5, 'blue']\n",
            "7\n"
          ]
        }
      ]
    },
    {
      "cell_type": "code",
      "metadata": {
        "colab": {
          "base_uri": "https://localhost:8080/"
        },
        "id": "GHrTqMyS7WB8",
        "outputId": "8893831e-bf3e-4169-fa17-a0dfb6f2a794"
      },
      "source": [
        "import numpy as np # библиотека для выполения научных вычислений с помощью python\n",
        "np.pi # вывод числа пи"
      ],
      "execution_count": 10,
      "outputs": [
        {
          "output_type": "execute_result",
          "data": {
            "text/plain": [
              "3.141592653589793"
            ]
          },
          "metadata": {},
          "execution_count": 10
        }
      ]
    },
    {
      "cell_type": "code",
      "metadata": {
        "colab": {
          "base_uri": "https://localhost:8080/"
        },
        "id": "suVAvCs27_7M",
        "outputId": "69462b94-3d94-42d9-f8c4-99919e423ded"
      },
      "source": [
        "# вывод длины окружности\n",
        "radius = 10 \n",
        "circumference = 2 * np.pi * radius \n",
        "circumference  "
      ],
      "execution_count": 11,
      "outputs": [
        {
          "output_type": "execute_result",
          "data": {
            "text/plain": [
              "62.83185307179586"
            ]
          },
          "metadata": {},
          "execution_count": 11
        }
      ]
    },
    {
      "cell_type": "code",
      "metadata": {
        "colab": {
          "base_uri": "https://localhost:8080/"
        },
        "id": "Cuixe9r-8OFo",
        "outputId": "dbc03026-55ef-4d3d-fe18-2e6b46ffd933"
      },
      "source": [
        "# пример массива (список списков)\n",
        "data = np.array([['','Col1','Col2'], \n",
        "['Row1',1,2], \n",
        "['Row2',3,4], \n",
        "['Row3',5,6]]) \n",
        " \n",
        "print(data)"
      ],
      "execution_count": 12,
      "outputs": [
        {
          "output_type": "stream",
          "name": "stdout",
          "text": [
            "[['' 'Col1' 'Col2']\n",
            " ['Row1' '1' '2']\n",
            " ['Row2' '3' '4']\n",
            " ['Row3' '5' '6']]\n"
          ]
        }
      ]
    },
    {
      "cell_type": "code",
      "metadata": {
        "colab": {
          "base_uri": "https://localhost:8080/"
        },
        "id": "Xg8WFxyq8nid",
        "outputId": "bc1b6b42-c881-4e32-e81b-553afc0730a7"
      },
      "source": [
        " print(data[1:,1:]) # вывод данных начиная с первой строчки 1 столбца"
      ],
      "execution_count": 13,
      "outputs": [
        {
          "output_type": "stream",
          "name": "stdout",
          "text": [
            "[['1' '2']\n",
            " ['3' '4']\n",
            " ['5' '6']]\n"
          ]
        }
      ]
    },
    {
      "cell_type": "code",
      "metadata": {
        "colab": {
          "base_uri": "https://localhost:8080/",
          "height": 143
        },
        "id": "-lBKElGl8xYA",
        "outputId": "137440e6-c29a-486c-ac72-09444c89c3b0"
      },
      "source": [
        "# с помощью этого можно сделать красивую табличку из списка списков\n",
        "import pandas as pd \n",
        "\n",
        "df = pd.DataFrame(data=data[1:,1:], \n",
        "index=data[1:,0], \n",
        "columns=data[0,1:]) \n",
        "\n",
        "df  "
      ],
      "execution_count": 14,
      "outputs": [
        {
          "output_type": "execute_result",
          "data": {
            "text/html": [
              "<div>\n",
              "<style scoped>\n",
              "    .dataframe tbody tr th:only-of-type {\n",
              "        vertical-align: middle;\n",
              "    }\n",
              "\n",
              "    .dataframe tbody tr th {\n",
              "        vertical-align: top;\n",
              "    }\n",
              "\n",
              "    .dataframe thead th {\n",
              "        text-align: right;\n",
              "    }\n",
              "</style>\n",
              "<table border=\"1\" class=\"dataframe\">\n",
              "  <thead>\n",
              "    <tr style=\"text-align: right;\">\n",
              "      <th></th>\n",
              "      <th>Col1</th>\n",
              "      <th>Col2</th>\n",
              "    </tr>\n",
              "  </thead>\n",
              "  <tbody>\n",
              "    <tr>\n",
              "      <th>Row1</th>\n",
              "      <td>1</td>\n",
              "      <td>2</td>\n",
              "    </tr>\n",
              "    <tr>\n",
              "      <th>Row2</th>\n",
              "      <td>3</td>\n",
              "      <td>4</td>\n",
              "    </tr>\n",
              "    <tr>\n",
              "      <th>Row3</th>\n",
              "      <td>5</td>\n",
              "      <td>6</td>\n",
              "    </tr>\n",
              "  </tbody>\n",
              "</table>\n",
              "</div>"
            ],
            "text/plain": [
              "     Col1 Col2\n",
              "Row1    1    2\n",
              "Row2    3    4\n",
              "Row3    5    6"
            ]
          },
          "metadata": {},
          "execution_count": 14
        }
      ]
    },
    {
      "cell_type": "markdown",
      "metadata": {
        "id": "svjRnX4M9jeG"
      },
      "source": [
        "*К нашим пингвинам...*"
      ]
    },
    {
      "cell_type": "code",
      "metadata": {
        "colab": {
          "base_uri": "https://localhost:8080/"
        },
        "id": "dBMeeDgz9fxa",
        "outputId": "58612502-2f04-481a-926b-42a9aa0ecddd"
      },
      "source": [
        "penguin_data = pd.read_csv(\"penguin-data.csv\") # загрузили файл с ростом и весом наших пингвинов\n",
        "penguin_data.shape  # вывели размер (файл содержит 20 строк и 2 столбца данных)"
      ],
      "execution_count": 15,
      "outputs": [
        {
          "output_type": "execute_result",
          "data": {
            "text/plain": [
              "(20, 2)"
            ]
          },
          "metadata": {},
          "execution_count": 15
        }
      ]
    },
    {
      "cell_type": "code",
      "metadata": {
        "colab": {
          "base_uri": "https://localhost:8080/",
          "height": 206
        },
        "id": "PTisT8QU9_kI",
        "outputId": "0272b8c8-74d9-4247-9943-1242d1ffa63a"
      },
      "source": [
        "penguin_data.head()  # по умолчанию без аргументов получается 5 стр"
      ],
      "execution_count": 21,
      "outputs": [
        {
          "output_type": "execute_result",
          "data": {
            "text/html": [
              "<div>\n",
              "<style scoped>\n",
              "    .dataframe tbody tr th:only-of-type {\n",
              "        vertical-align: middle;\n",
              "    }\n",
              "\n",
              "    .dataframe tbody tr th {\n",
              "        vertical-align: top;\n",
              "    }\n",
              "\n",
              "    .dataframe thead th {\n",
              "        text-align: right;\n",
              "    }\n",
              "</style>\n",
              "<table border=\"1\" class=\"dataframe\">\n",
              "  <thead>\n",
              "    <tr style=\"text-align: right;\">\n",
              "      <th></th>\n",
              "      <th>Height</th>\n",
              "      <th>Weight</th>\n",
              "    </tr>\n",
              "  </thead>\n",
              "  <tbody>\n",
              "    <tr>\n",
              "      <th>0</th>\n",
              "      <td>11</td>\n",
              "      <td>15</td>\n",
              "    </tr>\n",
              "    <tr>\n",
              "      <th>1</th>\n",
              "      <td>11</td>\n",
              "      <td>15</td>\n",
              "    </tr>\n",
              "    <tr>\n",
              "      <th>2</th>\n",
              "      <td>11</td>\n",
              "      <td>20</td>\n",
              "    </tr>\n",
              "    <tr>\n",
              "      <th>3</th>\n",
              "      <td>12</td>\n",
              "      <td>17</td>\n",
              "    </tr>\n",
              "    <tr>\n",
              "      <th>4</th>\n",
              "      <td>13</td>\n",
              "      <td>18</td>\n",
              "    </tr>\n",
              "  </tbody>\n",
              "</table>\n",
              "</div>"
            ],
            "text/plain": [
              "   Height  Weight\n",
              "0      11      15\n",
              "1      11      15\n",
              "2      11      20\n",
              "3      12      17\n",
              "4      13      18"
            ]
          },
          "metadata": {},
          "execution_count": 21
        }
      ]
    },
    {
      "cell_type": "code",
      "metadata": {
        "colab": {
          "base_uri": "https://localhost:8080/",
          "height": 298
        },
        "id": "Yyd3lQyx-8QJ",
        "outputId": "5bf59553-a2fe-411b-c2ea-99a7337c489c"
      },
      "source": [
        "# импортировали библиотеку для построения графиков\n",
        "%matplotlib inline\n",
        "import matplotlib.pyplot as plt\n",
        "\n",
        "# вывели график данных о наших пингвинах\n",
        "penguin_data.plot(kind='scatter',x='Height',y='Weight',color='red') "
      ],
      "execution_count": 32,
      "outputs": [
        {
          "output_type": "execute_result",
          "data": {
            "text/plain": [
              "<matplotlib.axes._subplots.AxesSubplot at 0x7f10996bd3d0>"
            ]
          },
          "metadata": {},
          "execution_count": 32
        },
        {
          "output_type": "display_data",
          "data": {
            "image/png": "[encoded data removed]",
            "text/plain": [
              "<Figure size 432x288 with 1 Axes>"
            ]
          },
          "metadata": {
            "needs_background": "light"
          }
        }
      ]
    },
    {
      "cell_type": "code",
      "metadata": {
        "id": "77FAgUZT_hZI"
      },
      "source": [
        "# из библиотеки sklearn импортируем функции\n",
        "from sklearn.linear_model import LinearRegression \n",
        "from sklearn.model_selection import train_test_split \n"
      ],
      "execution_count": 33,
      "outputs": []
    },
    {
      "cell_type": "code",
      "metadata": {
        "colab": {
          "base_uri": "https://localhost:8080/"
        },
        "id": "_vecjWKi_4Oy",
        "outputId": "85ae566f-deb2-4094-8182-802bd9ae116a"
      },
      "source": [
        "model = LinearRegression() # создали модель линейной регрессии\n",
        "model.fit(penguin_data[['Height']], penguin_data['Weight']) # обучаем модель на наших данных"
      ],
      "execution_count": 34,
      "outputs": [
        {
          "output_type": "execute_result",
          "data": {
            "text/plain": [
              "LinearRegression(copy_X=True, fit_intercept=True, n_jobs=None, normalize=False)"
            ]
          },
          "metadata": {},
          "execution_count": 34
        }
      ]
    },
    {
      "cell_type": "code",
      "metadata": {
        "colab": {
          "base_uri": "https://localhost:8080/",
          "height": 279
        },
        "id": "AXj6inhCARXJ",
        "outputId": "9c511678-9d25-42d7-f408-2813b87a21bd"
      },
      "source": [
        "# хотим создать новый график, используя нашу модель\n",
        "# график будет включать в себя линию наилучшего соответствия, проведенную по точкам данных\n",
        "\n",
        "# строим наши начальные данные обучения\n",
        "axes = plt.axes() \n",
        "axes.scatter(x=penguin_data['Height'], y=penguin_data['Weight']) \n",
        "\n",
        "# определяем наиболее подходящую линию\n",
        "slope = model.coef_[0] \n",
        "intercept = model.intercept_ \n",
        "\n",
        "# строим нашу линию\n",
        "x = np.linspace(10,20) \n",
        "y = slope*x+intercept \n",
        "axes.plot(x, y, 'r') \n",
        "\n",
        "# добавляем обозначения на график\n",
        "axes.set_xlabel('Height') \n",
        "axes.set_ylabel('Weight') \n",
        " \n",
        "plt.show()"
      ],
      "execution_count": 35,
      "outputs": [
        {
          "output_type": "display_data",
          "data": {
            "image/png": "[encoded data removed]",
            "text/plain": [
              "<Figure size 432x288 with 1 Axes>"
            ]
          },
          "metadata": {
            "needs_background": "light"
          }
        }
      ]
    },
    {
      "cell_type": "code",
      "metadata": {
        "colab": {
          "base_uri": "https://localhost:8080/"
        },
        "id": "yy33a_37CIDE",
        "outputId": "2f4c91a2-79a1-4b49-89e3-dcabf5ab9a8e"
      },
      "source": [
        "# по данному графику можно довольно точно определить вес пингвина исходя из его роста\n",
        "# попробуем это сделать\n",
        "\n",
        "height = 14 \n",
        " \n",
        "# преобразуем высоту в массив\n",
        "new_height = np.reshape([height],(1, -1)) \n",
        "print(new_height)\n",
        " \n",
        "# передаем высоту в нашу модель для прогноза веса\n",
        "weight = model.predict(new_height)[0] \n",
        " \n",
        "# выводим информацию \n",
        "print ( \"If you see a penguin that's %.2f tall, you can expect it to be %.2f in weight.\" % (height, weight)) "
      ],
      "execution_count": 37,
      "outputs": [
        {
          "output_type": "stream",
          "name": "stdout",
          "text": [
            "[[14]]\n",
            "If you see a penguin that's 14.00 tall, you can expect it to be 18.84 in weight.\n"
          ]
        }
      ]
    },
    {
      "cell_type": "code",
      "metadata": {
        "id": "lQvhl2RoC7j_"
      },
      "source": [
        "# по сути мы построили модель машинного обучения, которая говорит нам, сколько будет весить пингвин в зависимости от его роста"
      ],
      "execution_count": null,
      "outputs": []
    }
  ]
}